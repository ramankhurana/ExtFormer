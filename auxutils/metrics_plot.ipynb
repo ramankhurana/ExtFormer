{
 "cells": [
  {
   "cell_type": "code",
   "execution_count": 3,
   "metadata": {},
   "outputs": [],
   "source": [
    "import os \n",
    "import numpy as np \n"
   ]
  },
  {
   "cell_type": "markdown",
   "metadata": {},
   "source": [
    "## Divvy [with all static types]: \n",
    "- DLinear: need epoch 10 \n",
    "- Autoformer: need to run \n",
    "- FEDFormer: all are same value \n",
    "## M5 [only temporal]\n",
    "- DLinear\n",
    "- Autoformer\n",
    "- FEDFormer  "
   ]
  },
  {
   "cell_type": "code",
   "execution_count": 59,
   "metadata": {},
   "outputs": [
    {
     "data": {
      "text/plain": [
       "[1.8044304, 1.8044304, 1.8044304, 1.8044304, 1.8044304]"
      ]
     },
     "execution_count": 59,
     "metadata": {},
     "output_type": "execute_result"
    }
   ],
   "source": [
    "static_ = [\"1\",\"2\",\"4\",\"6\",\"7\"] \n",
    "filename_='/Users/raman/Projects/ExtFormer/results/long_term_forecast_{dataset}_96_96_{model}_{dataset}_ftM_sl96_ll48_pl96_dm512_nh8_el2_dl1_df2048_fc3_ebtimeF_dtTrue_Exp_0/{model}_{dataset}_{dataset}_96_96_static{static}_metrics.npy'\n",
    "f=filename_.format(model=\"DLinear\", dataset=\"Divvy\", static=\"1\")\n",
    "mse_=[]\n",
    "for istatic in static_:\n",
    "    mse_.append(np.load(filename_.format(model=\"FEDFormer\", dataset=\"Divvy\", static=istatic))[1])\n",
    "mse_"
   ]
  },
  {
   "cell_type": "code",
   "execution_count": 57,
   "metadata": {},
   "outputs": [],
   "source": []
  },
  {
   "cell_type": "code",
   "execution_count": 58,
   "metadata": {},
   "outputs": [
    {
     "data": {
      "text/plain": [
       "[1.8044304, 1.8044304, 1.8044304, 1.8044304, 1.8044304]"
      ]
     },
     "execution_count": 58,
     "metadata": {},
     "output_type": "execute_result"
    }
   ],
   "source": [
    "mse_"
   ]
  },
  {
   "cell_type": "code",
   "execution_count": null,
   "metadata": {},
   "outputs": [],
   "source": []
  },
  {
   "cell_type": "code",
   "execution_count": 56,
   "metadata": {},
   "outputs": [
    {
     "name": "stdout",
     "output_type": "stream",
     "text": [
      "ls: /Users/raman/Projects/ExtFormer/results/long_term_forecast_Divvy_96_96_AutoFormer_Divvy_ftM_sl96_ll48_pl96_dm512_nh8_el2_dl1_df2048_fc3_ebtimeF_dtTrue_Exp_0/AutoFormer_Divvy_Divvy_96_96_static1_metrics.npy: No such file or directory\n"
     ]
    }
   ],
   "source": [
    "ls /Users/raman/Projects/ExtFormer/results/long_term_forecast_Divvy_96_96_AutoFormer_Divvy_ftM_sl96_ll48_pl96_dm512_nh8_el2_dl1_df2048_fc3_ebtimeF_dtTrue_Exp_0/AutoFormer_Divvy_Divvy_96_96_static1_metrics.npy"
   ]
  },
  {
   "cell_type": "code",
   "execution_count": null,
   "metadata": {},
   "outputs": [],
   "source": []
  }
 ],
 "metadata": {
  "kernelspec": {
   "display_name": "ExtFormer",
   "language": "python",
   "name": "python3"
  },
  "language_info": {
   "codemirror_mode": {
    "name": "ipython",
    "version": 3
   },
   "file_extension": ".py",
   "mimetype": "text/x-python",
   "name": "python",
   "nbconvert_exporter": "python",
   "pygments_lexer": "ipython3",
   "version": "3.9.18"
  },
  "orig_nbformat": 4
 },
 "nbformat": 4,
 "nbformat_minor": 2
}
