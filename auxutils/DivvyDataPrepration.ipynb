{
 "cells": [
  {
   "cell_type": "code",
   "execution_count": 35,
   "metadata": {},
   "outputs": [],
   "source": [
    "import os \n",
    "from geopy.geocoders import Nominatim\n",
    "import pandas as pd\n",
    "import numpy as np\n",
    "import math\n"
   ]
  },
  {
   "cell_type": "code",
   "execution_count": 36,
   "metadata": {},
   "outputs": [
    {
     "data": {
      "text/plain": [
       "Index(['zip_code', 'landmarks'], dtype='object')"
      ]
     },
     "execution_count": 36,
     "metadata": {},
     "output_type": "execute_result"
    }
   ],
   "source": [
    "df_landmark_zip = pd.read_csv('/Users/raman/JupyterNotebooks/Comparison_Multivariate/dataset/DivvyBikes/data-from-cdl-students/landmark_clean.csv', \n",
    "                              usecols=['zip_code','landmarks'])\n",
    "df_landmark_zip.columns"
   ]
  },
  {
   "cell_type": "code",
   "execution_count": 37,
   "metadata": {},
   "outputs": [
    {
     "data": {
      "text/html": [
       "<div>\n",
       "<style scoped>\n",
       "    .dataframe tbody tr th:only-of-type {\n",
       "        vertical-align: middle;\n",
       "    }\n",
       "\n",
       "    .dataframe tbody tr th {\n",
       "        vertical-align: top;\n",
       "    }\n",
       "\n",
       "    .dataframe thead th {\n",
       "        text-align: right;\n",
       "    }\n",
       "</style>\n",
       "<table border=\"1\" class=\"dataframe\">\n",
       "  <thead>\n",
       "    <tr style=\"text-align: right;\">\n",
       "      <th></th>\n",
       "      <th>start_station_id</th>\n",
       "    </tr>\n",
       "  </thead>\n",
       "  <tbody>\n",
       "    <tr>\n",
       "      <th>0</th>\n",
       "      <td>13001</td>\n",
       "    </tr>\n",
       "    <tr>\n",
       "      <th>1</th>\n",
       "      <td>13006</td>\n",
       "    </tr>\n",
       "    <tr>\n",
       "      <th>2</th>\n",
       "      <td>13008</td>\n",
       "    </tr>\n",
       "    <tr>\n",
       "      <th>3</th>\n",
       "      <td>13011</td>\n",
       "    </tr>\n",
       "    <tr>\n",
       "      <th>4</th>\n",
       "      <td>13016</td>\n",
       "    </tr>\n",
       "    <tr>\n",
       "      <th>...</th>\n",
       "      <td>...</td>\n",
       "    </tr>\n",
       "    <tr>\n",
       "      <th>195</th>\n",
       "      <td>16907</td>\n",
       "    </tr>\n",
       "    <tr>\n",
       "      <th>196</th>\n",
       "      <td>16912</td>\n",
       "    </tr>\n",
       "    <tr>\n",
       "      <th>197</th>\n",
       "      <td>16913</td>\n",
       "    </tr>\n",
       "    <tr>\n",
       "      <th>198</th>\n",
       "      <td>16915</td>\n",
       "    </tr>\n",
       "    <tr>\n",
       "      <th>199</th>\n",
       "      <td>16916</td>\n",
       "    </tr>\n",
       "  </tbody>\n",
       "</table>\n",
       "<p>200 rows × 1 columns</p>\n",
       "</div>"
      ],
      "text/plain": [
       "    start_station_id\n",
       "0              13001\n",
       "1              13006\n",
       "2              13008\n",
       "3              13011\n",
       "4              13016\n",
       "..               ...\n",
       "195            16907\n",
       "196            16912\n",
       "197            16913\n",
       "198            16915\n",
       "199            16916\n",
       "\n",
       "[200 rows x 1 columns]"
      ]
     },
     "execution_count": 37,
     "metadata": {},
     "output_type": "execute_result"
    }
   ],
   "source": [
    "df_stations = pd.read_csv('/Users/raman/JupyterNotebooks/Comparison_Multivariate/dataset/DivvyBikes/df2021-8-9-10_VAR.csv', \n",
    "                          index_col='date')\n",
    "stations = pd.Series(df_stations.columns)\n",
    "df_station_id = pd.DataFrame(stations.rename(\"start_station_id\"))\n",
    "df_station_id[\"start_station_id\"]  = df_station_id[\"start_station_id\"].str.replace(\"_checkout\",\"\")\n",
    "df_station_id"
   ]
  },
  {
   "cell_type": "code",
   "execution_count": 67,
   "metadata": {},
   "outputs": [
    {
     "data": {
      "text/html": [
       "<div>\n",
       "<style scoped>\n",
       "    .dataframe tbody tr th:only-of-type {\n",
       "        vertical-align: middle;\n",
       "    }\n",
       "\n",
       "    .dataframe tbody tr th {\n",
       "        vertical-align: top;\n",
       "    }\n",
       "\n",
       "    .dataframe thead th {\n",
       "        text-align: right;\n",
       "    }\n",
       "</style>\n",
       "<table border=\"1\" class=\"dataframe\">\n",
       "  <thead>\n",
       "    <tr style=\"text-align: right;\">\n",
       "      <th></th>\n",
       "      <th>start_station_id</th>\n",
       "    </tr>\n",
       "  </thead>\n",
       "  <tbody>\n",
       "    <tr>\n",
       "      <th>27</th>\n",
       "      <td>13075</td>\n",
       "    </tr>\n",
       "  </tbody>\n",
       "</table>\n",
       "</div>"
      ],
      "text/plain": [
       "   start_station_id\n",
       "27            13075"
      ]
     },
     "execution_count": 67,
     "metadata": {},
     "output_type": "execute_result"
    }
   ],
   "source": [
    "df_station_id[df_station_id.start_station_id==\"13075\"]"
   ]
  },
  {
   "cell_type": "code",
   "execution_count": 38,
   "metadata": {},
   "outputs": [],
   "source": [
    "df_full = pd.read_csv('/Users/raman/JupyterNotebooks/Comparison_Multivariate/dataset/DivvyBikes/data-from-cdl-students/202108-divvy-tripdata_raw.csv',\n",
    "                      low_memory=False,\n",
    "                      usecols=['start_station_id','start_lat', 'start_lng']\n",
    "                       )"
   ]
  },
  {
   "cell_type": "code",
   "execution_count": 39,
   "metadata": {},
   "outputs": [
    {
     "data": {
      "text/html": [
       "<div>\n",
       "<style scoped>\n",
       "    .dataframe tbody tr th:only-of-type {\n",
       "        vertical-align: middle;\n",
       "    }\n",
       "\n",
       "    .dataframe tbody tr th {\n",
       "        vertical-align: top;\n",
       "    }\n",
       "\n",
       "    .dataframe thead th {\n",
       "        text-align: right;\n",
       "    }\n",
       "</style>\n",
       "<table border=\"1\" class=\"dataframe\">\n",
       "  <thead>\n",
       "    <tr style=\"text-align: right;\">\n",
       "      <th></th>\n",
       "      <th>start_station_id</th>\n",
       "      <th>start_lat</th>\n",
       "      <th>start_lng</th>\n",
       "    </tr>\n",
       "  </thead>\n",
       "  <tbody>\n",
       "    <tr>\n",
       "      <th>22968</th>\n",
       "      <td>13075</td>\n",
       "      <td>41.853085</td>\n",
       "      <td>-87.631931</td>\n",
       "    </tr>\n",
       "    <tr>\n",
       "      <th>26032</th>\n",
       "      <td>13075</td>\n",
       "      <td>41.853144</td>\n",
       "      <td>-87.631853</td>\n",
       "    </tr>\n",
       "    <tr>\n",
       "      <th>26033</th>\n",
       "      <td>13075</td>\n",
       "      <td>41.853085</td>\n",
       "      <td>-87.631931</td>\n",
       "    </tr>\n",
       "    <tr>\n",
       "      <th>26035</th>\n",
       "      <td>13075</td>\n",
       "      <td>41.853085</td>\n",
       "      <td>-87.631931</td>\n",
       "    </tr>\n",
       "    <tr>\n",
       "      <th>26345</th>\n",
       "      <td>13075</td>\n",
       "      <td>41.853200</td>\n",
       "      <td>-87.631851</td>\n",
       "    </tr>\n",
       "    <tr>\n",
       "      <th>...</th>\n",
       "      <td>...</td>\n",
       "      <td>...</td>\n",
       "      <td>...</td>\n",
       "    </tr>\n",
       "    <tr>\n",
       "      <th>761531</th>\n",
       "      <td>13075</td>\n",
       "      <td>41.853085</td>\n",
       "      <td>-87.631931</td>\n",
       "    </tr>\n",
       "    <tr>\n",
       "      <th>761533</th>\n",
       "      <td>13075</td>\n",
       "      <td>41.853085</td>\n",
       "      <td>-87.631931</td>\n",
       "    </tr>\n",
       "    <tr>\n",
       "      <th>761538</th>\n",
       "      <td>13075</td>\n",
       "      <td>41.853085</td>\n",
       "      <td>-87.631931</td>\n",
       "    </tr>\n",
       "    <tr>\n",
       "      <th>761540</th>\n",
       "      <td>13075</td>\n",
       "      <td>41.853085</td>\n",
       "      <td>-87.631931</td>\n",
       "    </tr>\n",
       "    <tr>\n",
       "      <th>761548</th>\n",
       "      <td>13075</td>\n",
       "      <td>41.853085</td>\n",
       "      <td>-87.631931</td>\n",
       "    </tr>\n",
       "  </tbody>\n",
       "</table>\n",
       "<p>1521 rows × 3 columns</p>\n",
       "</div>"
      ],
      "text/plain": [
       "       start_station_id  start_lat  start_lng\n",
       "22968             13075  41.853085 -87.631931\n",
       "26032             13075  41.853144 -87.631853\n",
       "26033             13075  41.853085 -87.631931\n",
       "26035             13075  41.853085 -87.631931\n",
       "26345             13075  41.853200 -87.631851\n",
       "...                 ...        ...        ...\n",
       "761531            13075  41.853085 -87.631931\n",
       "761533            13075  41.853085 -87.631931\n",
       "761538            13075  41.853085 -87.631931\n",
       "761540            13075  41.853085 -87.631931\n",
       "761548            13075  41.853085 -87.631931\n",
       "\n",
       "[1521 rows x 3 columns]"
      ]
     },
     "execution_count": 39,
     "metadata": {},
     "output_type": "execute_result"
    }
   ],
   "source": [
    "df_full[df_full.start_station_id=='13075']"
   ]
  },
  {
   "cell_type": "code",
   "execution_count": 40,
   "metadata": {},
   "outputs": [
    {
     "data": {
      "text/plain": [
       "(726, 2)"
      ]
     },
     "execution_count": 40,
     "metadata": {},
     "output_type": "execute_result"
    }
   ],
   "source": [
    "df_full = df_full.dropna()\n",
    "df_full_skimmed  = df_full.groupby(['start_station_id']).median()\n",
    "df_full_skimmed.shape"
   ]
  },
  {
   "cell_type": "code",
   "execution_count": 41,
   "metadata": {},
   "outputs": [
    {
     "data": {
      "text/html": [
       "<div>\n",
       "<style scoped>\n",
       "    .dataframe tbody tr th:only-of-type {\n",
       "        vertical-align: middle;\n",
       "    }\n",
       "\n",
       "    .dataframe tbody tr th {\n",
       "        vertical-align: top;\n",
       "    }\n",
       "\n",
       "    .dataframe thead th {\n",
       "        text-align: right;\n",
       "    }\n",
       "</style>\n",
       "<table border=\"1\" class=\"dataframe\">\n",
       "  <thead>\n",
       "    <tr style=\"text-align: right;\">\n",
       "      <th></th>\n",
       "      <th>start_lat</th>\n",
       "      <th>start_lng</th>\n",
       "    </tr>\n",
       "    <tr>\n",
       "      <th>start_station_id</th>\n",
       "      <th></th>\n",
       "      <th></th>\n",
       "    </tr>\n",
       "  </thead>\n",
       "  <tbody>\n",
       "    <tr>\n",
       "      <th>13075</th>\n",
       "      <td>41.853085</td>\n",
       "      <td>-87.631931</td>\n",
       "    </tr>\n",
       "  </tbody>\n",
       "</table>\n",
       "</div>"
      ],
      "text/plain": [
       "                  start_lat  start_lng\n",
       "start_station_id                      \n",
       "13075             41.853085 -87.631931"
      ]
     },
     "execution_count": 41,
     "metadata": {},
     "output_type": "execute_result"
    }
   ],
   "source": [
    "df_full_skimmed[df_full_skimmed.index=='13075']"
   ]
  },
  {
   "cell_type": "code",
   "execution_count": 42,
   "metadata": {},
   "outputs": [],
   "source": [
    "import pandas as pd\n",
    "from geopy.geocoders import Nominatim\n",
    "# Initialize Nominatim API\n",
    "geolocator = Nominatim(user_agent=\"Divvy-Bikes-Stations\")\n",
    "\n",
    "# Function to get zip code from lat-long\n",
    "def get_zipcode(location_):\n",
    "    try:\n",
    "        location = geolocator.reverse(location_)\n",
    "        return location.raw['address']['postcode']\n",
    "    except:\n",
    "        return None\n",
    "\n",
    "df_full_skimmed['lat_lng'] = df_full_skimmed.apply(lambda row: f\"{row['start_lat']}, {row['start_lng']}\", axis=1)\n",
    "\n",
    "    \n"
   ]
  },
  {
   "cell_type": "code",
   "execution_count": 43,
   "metadata": {},
   "outputs": [
    {
     "data": {
      "text/html": [
       "<div>\n",
       "<style scoped>\n",
       "    .dataframe tbody tr th:only-of-type {\n",
       "        vertical-align: middle;\n",
       "    }\n",
       "\n",
       "    .dataframe tbody tr th {\n",
       "        vertical-align: top;\n",
       "    }\n",
       "\n",
       "    .dataframe thead th {\n",
       "        text-align: right;\n",
       "    }\n",
       "</style>\n",
       "<table border=\"1\" class=\"dataframe\">\n",
       "  <thead>\n",
       "    <tr style=\"text-align: right;\">\n",
       "      <th></th>\n",
       "      <th>start_lat</th>\n",
       "      <th>start_lng</th>\n",
       "      <th>lat_lng</th>\n",
       "    </tr>\n",
       "    <tr>\n",
       "      <th>start_station_id</th>\n",
       "      <th></th>\n",
       "      <th></th>\n",
       "      <th></th>\n",
       "    </tr>\n",
       "  </thead>\n",
       "  <tbody>\n",
       "    <tr>\n",
       "      <th>13001</th>\n",
       "      <td>41.883984</td>\n",
       "      <td>-87.624684</td>\n",
       "      <td>41.8839840647265, -87.6246839761734</td>\n",
       "    </tr>\n",
       "    <tr>\n",
       "      <th>13006</th>\n",
       "      <td>41.882664</td>\n",
       "      <td>-87.632530</td>\n",
       "      <td>41.882664, -87.63253</td>\n",
       "    </tr>\n",
       "    <tr>\n",
       "      <th>13008</th>\n",
       "      <td>41.881032</td>\n",
       "      <td>-87.624084</td>\n",
       "      <td>41.8810317, -87.62408432</td>\n",
       "    </tr>\n",
       "    <tr>\n",
       "      <th>13011</th>\n",
       "      <td>41.879255</td>\n",
       "      <td>-87.639904</td>\n",
       "      <td>41.879255, -87.639904</td>\n",
       "    </tr>\n",
       "    <tr>\n",
       "      <th>13016</th>\n",
       "      <td>41.894345</td>\n",
       "      <td>-87.622798</td>\n",
       "      <td>41.89434513742426, -87.62279838323593</td>\n",
       "    </tr>\n",
       "    <tr>\n",
       "      <th>...</th>\n",
       "      <td>...</td>\n",
       "      <td>...</td>\n",
       "      <td>...</td>\n",
       "    </tr>\n",
       "    <tr>\n",
       "      <th>TA1309000066</th>\n",
       "      <td>41.969090</td>\n",
       "      <td>-87.674237</td>\n",
       "      <td>41.96909, -87.674237</td>\n",
       "    </tr>\n",
       "    <tr>\n",
       "      <th>TA1309000067</th>\n",
       "      <td>41.803038</td>\n",
       "      <td>-87.606615</td>\n",
       "      <td>41.803038, -87.606615</td>\n",
       "    </tr>\n",
       "    <tr>\n",
       "      <th>WL-008</th>\n",
       "      <td>41.867118</td>\n",
       "      <td>-87.641088</td>\n",
       "      <td>41.8671177825, -87.6410879593</td>\n",
       "    </tr>\n",
       "    <tr>\n",
       "      <th>WL-011</th>\n",
       "      <td>41.880422</td>\n",
       "      <td>-87.642746</td>\n",
       "      <td>41.880422, -87.642746</td>\n",
       "    </tr>\n",
       "    <tr>\n",
       "      <th>WL-012</th>\n",
       "      <td>41.883380</td>\n",
       "      <td>-87.641170</td>\n",
       "      <td>41.88338, -87.64117</td>\n",
       "    </tr>\n",
       "  </tbody>\n",
       "</table>\n",
       "<p>726 rows × 3 columns</p>\n",
       "</div>"
      ],
      "text/plain": [
       "                  start_lat  start_lng                                lat_lng\n",
       "start_station_id                                                             \n",
       "13001             41.883984 -87.624684    41.8839840647265, -87.6246839761734\n",
       "13006             41.882664 -87.632530                   41.882664, -87.63253\n",
       "13008             41.881032 -87.624084               41.8810317, -87.62408432\n",
       "13011             41.879255 -87.639904                  41.879255, -87.639904\n",
       "13016             41.894345 -87.622798  41.89434513742426, -87.62279838323593\n",
       "...                     ...        ...                                    ...\n",
       "TA1309000066      41.969090 -87.674237                   41.96909, -87.674237\n",
       "TA1309000067      41.803038 -87.606615                  41.803038, -87.606615\n",
       "WL-008            41.867118 -87.641088          41.8671177825, -87.6410879593\n",
       "WL-011            41.880422 -87.642746                  41.880422, -87.642746\n",
       "WL-012            41.883380 -87.641170                    41.88338, -87.64117\n",
       "\n",
       "[726 rows x 3 columns]"
      ]
     },
     "execution_count": 43,
     "metadata": {},
     "output_type": "execute_result"
    }
   ],
   "source": [
    "df_full_skimmed"
   ]
  },
  {
   "cell_type": "code",
   "execution_count": 57,
   "metadata": {},
   "outputs": [],
   "source": [
    "df_full_skimmed['zip_code'] = df_full_skimmed.apply(lambda row: get_zipcode(row['lat_lng']), axis=1)"
   ]
  },
  {
   "cell_type": "code",
   "execution_count": 65,
   "metadata": {},
   "outputs": [
    {
     "data": {
      "text/html": [
       "<div>\n",
       "<style scoped>\n",
       "    .dataframe tbody tr th:only-of-type {\n",
       "        vertical-align: middle;\n",
       "    }\n",
       "\n",
       "    .dataframe tbody tr th {\n",
       "        vertical-align: top;\n",
       "    }\n",
       "\n",
       "    .dataframe thead th {\n",
       "        text-align: right;\n",
       "    }\n",
       "</style>\n",
       "<table border=\"1\" class=\"dataframe\">\n",
       "  <thead>\n",
       "    <tr style=\"text-align: right;\">\n",
       "      <th></th>\n",
       "      <th>start_lat</th>\n",
       "      <th>start_lng</th>\n",
       "      <th>lat_lng</th>\n",
       "      <th>zip_code</th>\n",
       "    </tr>\n",
       "    <tr>\n",
       "      <th>start_station_id</th>\n",
       "      <th></th>\n",
       "      <th></th>\n",
       "      <th></th>\n",
       "      <th></th>\n",
       "    </tr>\n",
       "  </thead>\n",
       "  <tbody>\n",
       "  </tbody>\n",
       "</table>\n",
       "</div>"
      ],
      "text/plain": [
       "Empty DataFrame\n",
       "Columns: [start_lat, start_lng, lat_lng, zip_code]\n",
       "Index: []"
      ]
     },
     "execution_count": 65,
     "metadata": {},
     "output_type": "execute_result"
    }
   ],
   "source": [
    "df_full_skimmed[df_full_skimmed.index=='13075']"
   ]
  },
  {
   "cell_type": "code",
   "execution_count": 66,
   "metadata": {},
   "outputs": [
    {
     "data": {
      "text/html": [
       "<div>\n",
       "<style scoped>\n",
       "    .dataframe tbody tr th:only-of-type {\n",
       "        vertical-align: middle;\n",
       "    }\n",
       "\n",
       "    .dataframe tbody tr th {\n",
       "        vertical-align: top;\n",
       "    }\n",
       "\n",
       "    .dataframe thead th {\n",
       "        text-align: right;\n",
       "    }\n",
       "</style>\n",
       "<table border=\"1\" class=\"dataframe\">\n",
       "  <thead>\n",
       "    <tr style=\"text-align: right;\">\n",
       "      <th></th>\n",
       "      <th>start_lat</th>\n",
       "      <th>start_lng</th>\n",
       "      <th>lat_lng</th>\n",
       "      <th>zip_code</th>\n",
       "    </tr>\n",
       "    <tr>\n",
       "      <th>start_station_id</th>\n",
       "      <th></th>\n",
       "      <th></th>\n",
       "      <th></th>\n",
       "      <th></th>\n",
       "    </tr>\n",
       "  </thead>\n",
       "  <tbody>\n",
       "    <tr>\n",
       "      <th>13001</th>\n",
       "      <td>41.883984</td>\n",
       "      <td>-87.624684</td>\n",
       "      <td>41.8839840647265, -87.6246839761734</td>\n",
       "      <td>60602</td>\n",
       "    </tr>\n",
       "    <tr>\n",
       "      <th>13006</th>\n",
       "      <td>41.882664</td>\n",
       "      <td>-87.632530</td>\n",
       "      <td>41.882664, -87.63253</td>\n",
       "      <td>60696</td>\n",
       "    </tr>\n",
       "    <tr>\n",
       "      <th>13008</th>\n",
       "      <td>41.881032</td>\n",
       "      <td>-87.624084</td>\n",
       "      <td>41.8810317, -87.62408432</td>\n",
       "      <td>60602</td>\n",
       "    </tr>\n",
       "    <tr>\n",
       "      <th>13011</th>\n",
       "      <td>41.879255</td>\n",
       "      <td>-87.639904</td>\n",
       "      <td>41.879255, -87.639904</td>\n",
       "      <td>60606</td>\n",
       "    </tr>\n",
       "    <tr>\n",
       "      <th>13016</th>\n",
       "      <td>41.894345</td>\n",
       "      <td>-87.622798</td>\n",
       "      <td>41.89434513742426, -87.62279838323593</td>\n",
       "      <td>60611</td>\n",
       "    </tr>\n",
       "    <tr>\n",
       "      <th>...</th>\n",
       "      <td>...</td>\n",
       "      <td>...</td>\n",
       "      <td>...</td>\n",
       "      <td>...</td>\n",
       "    </tr>\n",
       "    <tr>\n",
       "      <th>TA1309000066</th>\n",
       "      <td>41.969090</td>\n",
       "      <td>-87.674237</td>\n",
       "      <td>41.96909, -87.674237</td>\n",
       "      <td>60640</td>\n",
       "    </tr>\n",
       "    <tr>\n",
       "      <th>TA1309000067</th>\n",
       "      <td>41.803038</td>\n",
       "      <td>-87.606615</td>\n",
       "      <td>41.803038, -87.606615</td>\n",
       "      <td>60615</td>\n",
       "    </tr>\n",
       "    <tr>\n",
       "      <th>WL-008</th>\n",
       "      <td>41.867118</td>\n",
       "      <td>-87.641088</td>\n",
       "      <td>41.8671177825, -87.6410879593</td>\n",
       "      <td>60605</td>\n",
       "    </tr>\n",
       "    <tr>\n",
       "      <th>WL-011</th>\n",
       "      <td>41.880422</td>\n",
       "      <td>-87.642746</td>\n",
       "      <td>41.880422, -87.642746</td>\n",
       "      <td>60606</td>\n",
       "    </tr>\n",
       "    <tr>\n",
       "      <th>WL-012</th>\n",
       "      <td>41.883380</td>\n",
       "      <td>-87.641170</td>\n",
       "      <td>41.88338, -87.64117</td>\n",
       "      <td>60661</td>\n",
       "    </tr>\n",
       "  </tbody>\n",
       "</table>\n",
       "<p>721 rows × 4 columns</p>\n",
       "</div>"
      ],
      "text/plain": [
       "                  start_lat  start_lng                                lat_lng  \\\n",
       "start_station_id                                                                \n",
       "13001             41.883984 -87.624684    41.8839840647265, -87.6246839761734   \n",
       "13006             41.882664 -87.632530                   41.882664, -87.63253   \n",
       "13008             41.881032 -87.624084               41.8810317, -87.62408432   \n",
       "13011             41.879255 -87.639904                  41.879255, -87.639904   \n",
       "13016             41.894345 -87.622798  41.89434513742426, -87.62279838323593   \n",
       "...                     ...        ...                                    ...   \n",
       "TA1309000066      41.969090 -87.674237                   41.96909, -87.674237   \n",
       "TA1309000067      41.803038 -87.606615                  41.803038, -87.606615   \n",
       "WL-008            41.867118 -87.641088          41.8671177825, -87.6410879593   \n",
       "WL-011            41.880422 -87.642746                  41.880422, -87.642746   \n",
       "WL-012            41.883380 -87.641170                    41.88338, -87.64117   \n",
       "\n",
       "                 zip_code  \n",
       "start_station_id           \n",
       "13001               60602  \n",
       "13006               60696  \n",
       "13008               60602  \n",
       "13011               60606  \n",
       "13016               60611  \n",
       "...                   ...  \n",
       "TA1309000066        60640  \n",
       "TA1309000067        60615  \n",
       "WL-008              60605  \n",
       "WL-011              60606  \n",
       "WL-012              60661  \n",
       "\n",
       "[721 rows x 4 columns]"
      ]
     },
     "execution_count": 66,
     "metadata": {},
     "output_type": "execute_result"
    }
   ],
   "source": [
    "df_full_skimmed"
   ]
  },
  {
   "cell_type": "code",
   "execution_count": 45,
   "metadata": {},
   "outputs": [],
   "source": [
    "df_full_skimmed_ = df_full_skimmed.dropna(inplace=True)"
   ]
  },
  {
   "cell_type": "code",
   "execution_count": 46,
   "metadata": {},
   "outputs": [],
   "source": [
    "df_full_skimmed_['zip_code']  = df_full_skimmed_['zip_code'].astype(int) "
   ]
  },
  {
   "cell_type": "code",
   "execution_count": 56,
   "metadata": {},
   "outputs": [
    {
     "data": {
      "text/html": [
       "<div>\n",
       "<style scoped>\n",
       "    .dataframe tbody tr th:only-of-type {\n",
       "        vertical-align: middle;\n",
       "    }\n",
       "\n",
       "    .dataframe tbody tr th {\n",
       "        vertical-align: top;\n",
       "    }\n",
       "\n",
       "    .dataframe thead th {\n",
       "        text-align: right;\n",
       "    }\n",
       "</style>\n",
       "<table border=\"1\" class=\"dataframe\">\n",
       "  <thead>\n",
       "    <tr style=\"text-align: right;\">\n",
       "      <th></th>\n",
       "      <th>start_lat</th>\n",
       "      <th>start_lng</th>\n",
       "      <th>lat_lng</th>\n",
       "      <th>zip_code</th>\n",
       "    </tr>\n",
       "    <tr>\n",
       "      <th>start_station_id</th>\n",
       "      <th></th>\n",
       "      <th></th>\n",
       "      <th></th>\n",
       "      <th></th>\n",
       "    </tr>\n",
       "  </thead>\n",
       "  <tbody>\n",
       "  </tbody>\n",
       "</table>\n",
       "</div>"
      ],
      "text/plain": [
       "Empty DataFrame\n",
       "Columns: [start_lat, start_lng, lat_lng, zip_code]\n",
       "Index: []"
      ]
     },
     "execution_count": 56,
     "metadata": {},
     "output_type": "execute_result"
    }
   ],
   "source": [
    "df_full_skimmed_[df_full_skimmed_.index=='13075']"
   ]
  },
  {
   "cell_type": "code",
   "execution_count": 49,
   "metadata": {},
   "outputs": [],
   "source": [
    "df_final = df_full_skimmed_.reset_index().merge(df_landmark_zip, on=\"zip_code\", how='left')\n"
   ]
  },
  {
   "cell_type": "code",
   "execution_count": 50,
   "metadata": {},
   "outputs": [],
   "source": [
    "df_final = df_final.set_index(\"start_station_id\").drop(columns=['start_lat', 'start_lng', 'lat_lng', ]).fillna(0)"
   ]
  },
  {
   "cell_type": "code",
   "execution_count": 51,
   "metadata": {},
   "outputs": [],
   "source": [
    "df_final = df_final.reset_index()\n"
   ]
  },
  {
   "cell_type": "code",
   "execution_count": 52,
   "metadata": {},
   "outputs": [],
   "source": [
    "df_static = df_final[df_final.reset_index().start_station_id.isin(df_station_id.start_station_id)]"
   ]
  },
  {
   "cell_type": "markdown",
   "metadata": {},
   "source": [
    "## which station id is missing "
   ]
  },
  {
   "cell_type": "code",
   "execution_count": 53,
   "metadata": {},
   "outputs": [
    {
     "data": {
      "text/plain": [
       "{'13075'}"
      ]
     },
     "execution_count": 53,
     "metadata": {},
     "output_type": "execute_result"
    }
   ],
   "source": [
    "set(df_station_id.start_station_id.to_list())  - set(df_final.start_station_id.to_list())"
   ]
  },
  {
   "cell_type": "code",
   "execution_count": 85,
   "metadata": {},
   "outputs": [],
   "source": [
    "missing_row = pd.DataFrame({'start_station_id': ['13075'], 'zip_code': [60647], 'landmarks':[5]}, index=[27])\n",
    "top_=df_static[:27]\n",
    "bottom_=df_static[27:]\n",
    "df_static_no_missing = pd.concat([top_,missing_row, bottom_])"
   ]
  },
  {
   "cell_type": "code",
   "execution_count": 86,
   "metadata": {},
   "outputs": [
    {
     "data": {
      "text/html": [
       "<div>\n",
       "<style scoped>\n",
       "    .dataframe tbody tr th:only-of-type {\n",
       "        vertical-align: middle;\n",
       "    }\n",
       "\n",
       "    .dataframe tbody tr th {\n",
       "        vertical-align: top;\n",
       "    }\n",
       "\n",
       "    .dataframe thead th {\n",
       "        text-align: right;\n",
       "    }\n",
       "</style>\n",
       "<table border=\"1\" class=\"dataframe\">\n",
       "  <thead>\n",
       "    <tr style=\"text-align: right;\">\n",
       "      <th></th>\n",
       "      <th>start_station_id</th>\n",
       "      <th>zip_code</th>\n",
       "      <th>landmarks</th>\n",
       "    </tr>\n",
       "  </thead>\n",
       "  <tbody>\n",
       "    <tr>\n",
       "      <th>27</th>\n",
       "      <td>13075</td>\n",
       "      <td>60647</td>\n",
       "      <td>5.0</td>\n",
       "    </tr>\n",
       "  </tbody>\n",
       "</table>\n",
       "</div>"
      ],
      "text/plain": [
       "   start_station_id  zip_code  landmarks\n",
       "27            13075     60647        5.0"
      ]
     },
     "execution_count": 86,
     "metadata": {},
     "output_type": "execute_result"
    }
   ],
   "source": [
    "df_static_no_missing[df_static_no_missing.start_station_id==\"13075\"]"
   ]
  },
  {
   "cell_type": "code",
   "execution_count": 91,
   "metadata": {},
   "outputs": [],
   "source": [
    "# Write to a .npy file\n",
    "np.save(\"divvy_static.npy\", df_static_no_missing.landmarks.to_numpy())\n"
   ]
  },
  {
   "cell_type": "code",
   "execution_count": 92,
   "metadata": {},
   "outputs": [
    {
     "name": "stdout",
     "output_type": "stream",
     "text": [
      "DivvyDataPrepration.ipynb divvy_static.npy\n"
     ]
    }
   ],
   "source": []
  },
  {
   "cell_type": "code",
   "execution_count": null,
   "metadata": {},
   "outputs": [],
   "source": []
  }
 ],
 "metadata": {
  "kernelspec": {
   "display_name": "ExtFormer",
   "language": "python",
   "name": "python3"
  },
  "language_info": {
   "codemirror_mode": {
    "name": "ipython",
    "version": 3
   },
   "file_extension": ".py",
   "mimetype": "text/x-python",
   "name": "python",
   "nbconvert_exporter": "python",
   "pygments_lexer": "ipython3",
   "version": "3.9.18"
  },
  "orig_nbformat": 4
 },
 "nbformat": 4,
 "nbformat_minor": 2
}
